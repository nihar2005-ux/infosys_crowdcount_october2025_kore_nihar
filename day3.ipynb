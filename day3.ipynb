{
 "cells": [
  {
   "cell_type": "code",
   "execution_count": 1,
   "id": "ee8a187e-0d69-4cb0-a089-4f14d7c88a34",
   "metadata": {},
   "outputs": [
    {
     "name": "stdout",
     "output_type": "stream",
     "text": [
      "i will buy the mask later\n"
     ]
    }
   ],
   "source": [
    "mask=50\n",
    "if mask<40:\n",
    "    print('i will buy the mask')\n",
    "elif 60>mask>30:    #mask>30 and mask<60\n",
    "    print('i will buy the mask later')\n",
    "else:\n",
    "    print('i will not buy the mask')\n"
   ]
  },
  {
   "cell_type": "code",
   "execution_count": 3,
   "id": "235a6dc5-5673-4c42-990f-4189988ec18b",
   "metadata": {},
   "outputs": [],
   "source": [
    "#task1-Write code for calculator with all 7 operators + - * / % // ** using if elif else\n",
    "##task2-for loop using tuple , dictionary , set\n",
    "#task3-design calculator using structural pattern matching"
   ]
  },
  {
   "cell_type": "code",
   "execution_count": 5,
   "id": "0eb27c96-e7cc-487f-ac92-bf2649c9aeea",
   "metadata": {},
   "outputs": [
    {
     "data": {
      "text/plain": [
       "'C:\\\\Users\\\\koren\\\\infosys'"
      ]
     },
     "execution_count": 5,
     "metadata": {},
     "output_type": "execute_result"
    }
   ],
   "source": [
    "import os\n",
    "os.getcwd()"
   ]
  },
  {
   "cell_type": "code",
   "execution_count": null,
   "id": "f2529a1b-5f40-481d-b504-766862aa69ab",
   "metadata": {},
   "outputs": [],
   "source": []
  },
  {
   "cell_type": "code",
   "execution_count": 24,
   "id": "89770bd0-1c7c-4508-98f0-e09e07665f0b",
   "metadata": {},
   "outputs": [],
   "source": [
    "fp=open('infy.txt','w+')\n",
    "fp.write(\"HII IAM NIHAR\")\n",
    "fp.close()"
   ]
  },
  {
   "cell_type": "code",
   "execution_count": 26,
   "id": "afbfa2ef-1ea0-4301-b641-54707026b7f0",
   "metadata": {},
   "outputs": [
    {
     "data": {
      "text/plain": [
       "'HII IAM NIHAR'"
      ]
     },
     "execution_count": 26,
     "metadata": {},
     "output_type": "execute_result"
    }
   ],
   "source": [
    "fp=open('infy.txt','r')\n",
    "fp.read()"
   ]
  },
  {
   "cell_type": "code",
   "execution_count": 30,
   "id": "9a41e307-a9a0-408b-8a0d-d5f7ffd92e04",
   "metadata": {},
   "outputs": [
    {
     "data": {
      "text/plain": [
       "'IAM NIHAR'"
      ]
     },
     "execution_count": 30,
     "metadata": {},
     "output_type": "execute_result"
    }
   ],
   "source": [
    "fp.seek(4)\n",
    "fp.read()"
   ]
  },
  {
   "cell_type": "code",
   "execution_count": 3,
   "id": "acb42522-cbea-4818-b0b0-e9e23485d90c",
   "metadata": {},
   "outputs": [
    {
     "name": "stdin",
     "output_type": "stream",
     "text": [
      "enter number1:  3\n",
      "enter number2:  2\n"
     ]
    },
    {
     "name": "stdout",
     "output_type": "stream",
     "text": [
      "To end operations enter word \"end\" \n"
     ]
    },
    {
     "name": "stdin",
     "output_type": "stream",
     "text": [
      "enter operation:  **\n"
     ]
    },
    {
     "name": "stdout",
     "output_type": "stream",
     "text": [
      "9\n"
     ]
    },
    {
     "name": "stdin",
     "output_type": "stream",
     "text": [
      "enter operation:  end\n"
     ]
    }
   ],
   "source": [
    "#task1-Write code for calculator with all 7 operators + - * / % // ** using if elif else\n",
    "try:\n",
    "    a=int(input('enter number1: '))\n",
    "    b=int(input('enter number2: '))\n",
    "    print('To end operations enter word \"end\" ')\n",
    "    while True:\n",
    "        s=input('enter operation: ')\n",
    "        if s.lower()=='end':\n",
    "            break\n",
    "        if s=='+':\n",
    "            print(a+b)\n",
    "        elif s=='-':\n",
    "            print(a-b)\n",
    "        elif s=='*':\n",
    "            print(a*b)\n",
    "        elif s=='/':\n",
    "            print(a/b)\n",
    "        elif s=='//':\n",
    "            print(a//b)\n",
    "        elif s=='%':\n",
    "            print(a%b)\n",
    "        elif s=='**':\n",
    "            print(a**b)\n",
    "except:\n",
    "    print('please enter valid input')"
   ]
  },
  {
   "cell_type": "code",
   "execution_count": 31,
   "id": "2f4f9847-e582-4925-98e5-746a7ae18d8e",
   "metadata": {},
   "outputs": [
    {
     "name": "stdout",
     "output_type": "stream",
     "text": [
      "learning tuple:  2\n",
      "learning tuple:  3\n",
      "learning tuple:  5\n",
      "learning tuple:  hi\n",
      "learning tuple:  end\n",
      "\n",
      "learning set:  set\n",
      "learning set:  3\n",
      "learning set:  4\n",
      "learning set:  5\n",
      "learning set:  55\n",
      "\n",
      "learning dict:  1 N\n",
      "learning dict:  2 I\n",
      "learning dict:  3 H\n",
      "learning dict:  4 A\n",
      "learning dict:  5 R\n"
     ]
    }
   ],
   "source": [
    "##task2-for loop using tuple , dictionary , set\n",
    "for i in (2,3,5,'hi','end'):\n",
    "    print('learning tuple: ',i)\n",
    "print()\n",
    "for i in {3,4,5,'set',55}:\n",
    "    print('learning set: ',i)\n",
    "print()\n",
    "for i,j in {1:'N',2:'I',3:'H',4:'A',5:'R'}.items():\n",
    "    print('learning dict: ',i,j)"
   ]
  },
  {
   "cell_type": "code",
   "execution_count": 1,
   "id": "16f94ecf-0d05-407a-9a0f-1a318415d42c",
   "metadata": {},
   "outputs": [
    {
     "name": "stdin",
     "output_type": "stream",
     "text": [
      "enter number1:  5\n",
      "enter number2:  4\n"
     ]
    },
    {
     "name": "stdout",
     "output_type": "stream",
     "text": [
      "enter \"_\" operation to end operations\n"
     ]
    },
    {
     "name": "stdin",
     "output_type": "stream",
     "text": [
      "enter operation:  +\n"
     ]
    },
    {
     "name": "stdout",
     "output_type": "stream",
     "text": [
      "9\n"
     ]
    },
    {
     "name": "stdin",
     "output_type": "stream",
     "text": [
      "enter operation:  -\n"
     ]
    },
    {
     "name": "stdout",
     "output_type": "stream",
     "text": [
      "1\n"
     ]
    },
    {
     "name": "stdin",
     "output_type": "stream",
     "text": [
      "enter operation:  **\n"
     ]
    },
    {
     "name": "stdout",
     "output_type": "stream",
     "text": [
      "625\n"
     ]
    },
    {
     "name": "stdin",
     "output_type": "stream",
     "text": [
      "enter operation:  *\n"
     ]
    },
    {
     "name": "stdout",
     "output_type": "stream",
     "text": [
      "20\n"
     ]
    },
    {
     "name": "stdin",
     "output_type": "stream",
     "text": [
      "enter operation:  /\n"
     ]
    },
    {
     "name": "stdout",
     "output_type": "stream",
     "text": [
      "1.25\n"
     ]
    },
    {
     "name": "stdin",
     "output_type": "stream",
     "text": [
      "enter operation:  //\n"
     ]
    },
    {
     "name": "stdout",
     "output_type": "stream",
     "text": [
      "1\n"
     ]
    },
    {
     "name": "stdin",
     "output_type": "stream",
     "text": [
      "enter operation:  %\n"
     ]
    },
    {
     "name": "stdout",
     "output_type": "stream",
     "text": [
      "1\n"
     ]
    },
    {
     "name": "stdin",
     "output_type": "stream",
     "text": [
      "enter operation:  _\n"
     ]
    }
   ],
   "source": [
    "#task3-design calculator using structural pattern matching\n",
    "a=int(input('enter number1: '))\n",
    "b=int(input('enter number2: '))\n",
    "print('enter \"_\" operation to end operations')\n",
    "while True:\n",
    "    num=input('enter operation: ')\n",
    "    match num:\n",
    "        case '+':\n",
    "            print(a+b)\n",
    "        case '-':\n",
    "            print(a-b)\n",
    "        case '*':\n",
    "            print(a*b)\n",
    "        case '/':\n",
    "            print(a/b)\n",
    "        case '//':\n",
    "            print(a//b)\n",
    "        case '%':\n",
    "            print(a%b)\n",
    "        case '**':\n",
    "            print(a**b)\n",
    "        case '_':\n",
    "            exit()\n",
    "            break"
   ]
  },
  {
   "cell_type": "code",
   "execution_count": null,
   "id": "7d90d7ff-87b8-4b40-9a06-498ed9b25aaf",
   "metadata": {},
   "outputs": [],
   "source": []
  }
 ],
 "metadata": {
  "kernelspec": {
   "display_name": "Python 3 (ipykernel)",
   "language": "python",
   "name": "python3"
  },
  "language_info": {
   "codemirror_mode": {
    "name": "ipython",
    "version": 3
   },
   "file_extension": ".py",
   "mimetype": "text/x-python",
   "name": "python",
   "nbconvert_exporter": "python",
   "pygments_lexer": "ipython3",
   "version": "3.11.7"
  }
 },
 "nbformat": 4,
 "nbformat_minor": 5
}
