{
 "cells": [
  {
   "cell_type": "code",
   "execution_count": 1,
   "id": "fd3eb1c1-b218-40d4-8b6b-d8e00fe66855",
   "metadata": {},
   "outputs": [],
   "source": [
    "# task1 write code to create google form which has all data types using input command - giving user input at runtime.\n",
    "#     using all 5 methods : coma , + , % , .format , f string\n",
    "\n",
    "#task2-functions manipulating lists only\n",
    "\n",
    "#task3-builtin functions for dictionary\n",
    "\n",
    "#task4-functions to modify set\n",
    "\n",
    "#task5-set operations\n",
    "springboardm05@gmail.com\n",
    " "
   ]
  },
  {
   "cell_type": "code",
   "execution_count": 19,
   "id": "72641c84-0726-4e00-b4b8-b34447a28832",
   "metadata": {},
   "outputs": [
    {
     "name": "stdin",
     "output_type": "stream",
     "text": [
      "Enter your name:  Nihar\n",
      "Enter your age:  20\n",
      "Enter your CGPA:  8.55\n",
      "Enter your branch:  CSE\n"
     ]
    },
    {
     "name": "stdout",
     "output_type": "stream",
     "text": [
      "Name: Nihar , Age: 20 , CGPA: 8.55 , Branch: CSE\n",
      "Name: Nihar Age: 20 CGPA: 8.55 Branch: CSE\n",
      " Name: Nihar, Age: 20, CGPA: 8.55, Branch: CSE\n",
      "Name: Nihar, Age: 20, CGPA: 8.55, Branch: CSE\n",
      "Name: Nihar, Age: 20, CGPA: 8.55, Branch: CSE\n"
     ]
    }
   ],
   "source": [
    "name = input(\"Enter your name: \")\n",
    "age = int(input(\"Enter your age: \"))\n",
    "cgpa = float(input(\"Enter your CGPA: \"))\n",
    "branch = input(\"Enter your branch: \")\n",
    "\n",
    "print( \"Name:\", name, \", Age:\", age, \", CGPA:\", cgpa, \", Branch:\", branch,)\n",
    "\n",
    "print( \"Name: \" + name + \" Age: \" + str(age) + \" CGPA: \" + str(cgpa) + \" Branch: \" + branch)\n",
    "\n",
    "print(\" Name: %s, Age: %d, CGPA: %.2f, Branch: %s\" % (name, age, cgpa, branch))\n",
    "\n",
    "print(\"Name: {}, Age: {}, CGPA: {:.2f}, Branch: {}\".format(name, age, cgpa, branch))\n",
    "\n",
    "print(f\"Name: {name}, Age: {age}, CGPA: {cgpa:.2f}, Branch: {branch}\")\n"
   ]
  },
  {
   "cell_type": "code",
   "execution_count": 3,
   "id": "990ec240-d07c-4d50-8860-9fa493f6d3a7",
   "metadata": {},
   "outputs": [
    {
     "name": "stdout",
     "output_type": "stream",
     "text": [
      "[1, 7, 9, 4, 0, 3, 6]\n",
      "[1, 7, 'hi', 9, 4, 0, 3, 6]\n",
      "[1, 7, 9, 4, 0, 3, 6]\n",
      "[1, 7, 9, 4, 0, 3]\n",
      "[0, 1, 3, 4, 7, 9]\n"
     ]
    }
   ],
   "source": [
    "l=[1,7,9,4,0,3]\n",
    "l.append(6)\n",
    "print(l)\n",
    "l.insert(2,'hi')\n",
    "print(l)\n",
    "l.remove('hi')\n",
    "print(l)\n",
    "l.pop()\n",
    "print(l)\n",
    "l.sort()\n",
    "print(l)"
   ]
  },
  {
   "cell_type": "code",
   "execution_count": 7,
   "id": "1ddffe26-0d5e-4544-83ab-002c5c47b930",
   "metadata": {},
   "outputs": [
    {
     "name": "stdout",
     "output_type": "stream",
     "text": [
      "4\n",
      "4\n",
      "1\n",
      "{2: 'alice', 3: 'kitty', 4: 'rocky'}\n",
      "{2: 'alice', 4: 'rocky'}\n",
      "{}\n"
     ]
    }
   ],
   "source": [
    "d={\n",
    "    1:\"bob\",\n",
    "    2:\"alice\",\n",
    "    3:\"kitty\",\n",
    "    4:\"rocky\"\n",
    "}\n",
    "print(len(d))\n",
    "print(max(d))\n",
    "print(min(d))\n",
    "del d[1]\n",
    "print(d)\n",
    "d.pop(3)\n",
    "print(d)\n",
    "d.clear()\n",
    "print(d)"
   ]
  },
  {
   "cell_type": "code",
   "execution_count": 9,
   "id": "e830fb12-7e7e-4711-9bd3-96b7bcf039b9",
   "metadata": {},
   "outputs": [
    {
     "name": "stdout",
     "output_type": "stream",
     "text": [
      "{'c', 'c++', 'py', 'java', 'php'}\n",
      "{'ruby', 'c', 'c++', 'py', 'java', 'php'}\n",
      "{'ruby', 'c', 'py', 'java', 'php'}\n",
      "{'ruby', 'py', 'java', 'c', 'php'}\n",
      "{'ruby', 'py', 'c', 'php'}\n",
      "set()\n"
     ]
    }
   ],
   "source": [
    "s={\"py\",\"c\",\"c++\",\"java\"}\n",
    "s.add(\"php\")\n",
    "print(s)\n",
    "s.update([\"c\",\"ruby\"])\n",
    "print(s)\n",
    "s.remove(\"c++\")\n",
    "print(s)\n",
    "s1=s.copy()\n",
    "print(s1)\n",
    "s1.discard(\"java\")\n",
    "print(s1)\n",
    "s.clear()\n",
    "print(s)"
   ]
  },
  {
   "cell_type": "code",
   "execution_count": 11,
   "id": "b2e0e47c-f216-4748-ab3e-cac99c92493e",
   "metadata": {},
   "outputs": [
    {
     "name": "stdout",
     "output_type": "stream",
     "text": [
      "{1, 2, 3, 4, 5, 6}\n",
      "{3, 4}\n",
      "{1, 2}\n",
      "{5, 6}\n",
      "{1, 2, 5, 6}\n",
      "True\n",
      "True\n",
      "True\n"
     ]
    }
   ],
   "source": [
    "A = {1, 2, 3, 4}\n",
    "B = {3, 4, 5, 6}\n",
    "print( A | B)\n",
    "print( A & B) \n",
    "print( A - B)\n",
    "print( B - A) \n",
    "print( A ^ B)  \n",
    "print( {1,2}.issubset(A)) \n",
    "print( A.issuperset({1})) \n",
    "print(A.isdisjoint({7}))\n"
   ]
  },
  {
   "cell_type": "code",
   "execution_count": null,
   "id": "56f055b2-3129-4165-b865-3aaacb4a2c2f",
   "metadata": {},
   "outputs": [],
   "source": []
  }
 ],
 "metadata": {
  "kernelspec": {
   "display_name": "Python 3 (ipykernel)",
   "language": "python",
   "name": "python3"
  },
  "language_info": {
   "codemirror_mode": {
    "name": "ipython",
    "version": 3
   },
   "file_extension": ".py",
   "mimetype": "text/x-python",
   "name": "python",
   "nbconvert_exporter": "python",
   "pygments_lexer": "ipython3",
   "version": "3.11.7"
  }
 },
 "nbformat": 4,
 "nbformat_minor": 5
}
