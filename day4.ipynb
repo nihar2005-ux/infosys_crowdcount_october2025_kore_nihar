{
 "cells": [
  {
   "cell_type": "code",
   "execution_count": 1,
   "id": "ac1772a3-8375-47e9-8457-9fa586df75c0",
   "metadata": {},
   "outputs": [],
   "source": [
    "#task1-do fibonacci & factorial of a number using recursive functions\n",
    "#task2: write example code for modules OS, MATH, RANDOM\n",
    "#task3: list, tuple & dictionary comprehensions. runtime arguments with *args **kwargs"
   ]
  },
  {
   "cell_type": "code",
   "execution_count": 17,
   "id": "bf1aec8c-e7c7-494f-9d66-bb6ffbd80707",
   "metadata": {},
   "outputs": [
    {
     "name": "stdin",
     "output_type": "stream",
     "text": [
      "enter number:  5\n"
     ]
    },
    {
     "name": "stdout",
     "output_type": "stream",
     "text": [
      "120\n"
     ]
    }
   ],
   "source": [
    "#task1-do fibonacci & factorial of a number using recursive functions\n",
    "def fact(n):\n",
    "    if n==0 or n==1:\n",
    "        return 1\n",
    "    return n*fact(n-1)\n",
    "n=int(input('enter number: '))\n",
    "print(fact(n))"
   ]
  },
  {
   "cell_type": "code",
   "execution_count": 25,
   "id": "1859475a-8601-43bc-b6bf-2d2234d2ee27",
   "metadata": {},
   "outputs": [
    {
     "name": "stdin",
     "output_type": "stream",
     "text": [
      "enter range:  10\n"
     ]
    },
    {
     "name": "stdout",
     "output_type": "stream",
     "text": [
      "0 1 1 2 3 5 8 13 21 34 "
     ]
    }
   ],
   "source": [
    "#task1-do fibonacci & factorial of a number using recursive functions\n",
    "def fib(n):\n",
    "    if n <= 1:\n",
    "        return n\n",
    "    return fib(n-1) + fib(n-2)\n",
    "n=int(input('enter range: '))\n",
    "for i in range(n):\n",
    "    print(fib(i), end=\" \")"
   ]
  },
  {
   "cell_type": "code",
   "execution_count": 122,
   "id": "c47719e8-8176-4dc8-901e-81a959d67164",
   "metadata": {},
   "outputs": [
    {
     "name": "stdout",
     "output_type": "stream",
     "text": [
      "0.22462910517262857\n",
      "3\n",
      "3\n",
      "scissor\n",
      "[4, 2, 3, 1]\n"
     ]
    }
   ],
   "source": [
    "#task2: write example code for modules OS, MATH, RANDOM\n",
    "#random\n",
    "import random as rd\n",
    "print(rd.random())\n",
    "print(rd.randint(1,10))\n",
    "print(rd.randrange(10))\n",
    "l=['rock','paper','scissor']\n",
    "l1=[1,2,3,4]\n",
    "print(rd.choice(l))\n",
    "rd.shuffle(l1)\n",
    "print(l1)"
   ]
  },
  {
   "cell_type": "code",
   "execution_count": 118,
   "id": "2cb846ee-9c85-42c2-93d9-6ecc5d4ffba6",
   "metadata": {},
   "outputs": [
    {
     "name": "stdout",
     "output_type": "stream",
     "text": [
      "6.0\n",
      "3.141592653589793\n",
      "-6.405331196646276\n",
      "-0.9880316240928618\n",
      "0.15425144988758405\n",
      "1718.8733853924696\n",
      "0.5235987755982988\n",
      "4\n",
      "3\n",
      "6.0\n",
      "36.0\n",
      "0.6931471805599453\n"
     ]
    }
   ],
   "source": [
    "#math\n",
    "import math\n",
    "print(math.sqrt(36))\n",
    "print(math.pi)\n",
    "print(math.tan(30))\n",
    "print(math.sin(30))\n",
    "print(math.cos(30))\n",
    "print(math.degrees(30))\n",
    "print(math.radians(30))\n",
    "print(math.ceil(3.4))\n",
    "print(math.floor(3.4))\n",
    "print(math.sqrt(36))\n",
    "print(math.pow(6,2))\n",
    "print(math.log(2))"
   ]
  },
  {
   "cell_type": "code",
   "execution_count": 151,
   "id": "71310788-6c05-4b12-b83a-e4c41b34e5df",
   "metadata": {},
   "outputs": [
    {
     "name": "stdout",
     "output_type": "stream",
     "text": [
      "C:\\Users\\koren\\infosys\n",
      "HII IAM NIHAR\n",
      "IAM NIHAR\n"
     ]
    }
   ],
   "source": [
    "#os\n",
    "import os\n",
    "print(os.getcwd())\n",
    "fp=open('infy.txt','r')\n",
    "print(fp.read())\n",
    "fp.seek(4)\n",
    "print(fp.read())\n",
    "fp1=open('inf.txt','w+')\n",
    "fp1.write(\"HII IAM BUNNY\")\n",
    "fp1.close()"
   ]
  },
  {
   "cell_type": "code",
   "execution_count": 167,
   "id": "b66272eb-82f8-4b48-b4b1-dda9a6842c7b",
   "metadata": {},
   "outputs": [
    {
     "name": "stdout",
     "output_type": "stream",
     "text": [
      "HII IAM BUNNY\n",
      "HII IAM BUNNY\n"
     ]
    }
   ],
   "source": [
    "fp1 = open('inf.txt', 'r')\n",
    "print(fp1.read())\n",
    "fp1.seek(0)\n",
    "print(fp1.readline())\n",
    "fp1.close()"
   ]
  },
  {
   "cell_type": "code",
   "execution_count": 169,
   "id": "b31a7a8b-6657-45da-ae06-5fd7ec9ffb05",
   "metadata": {},
   "outputs": [
    {
     "name": "stdout",
     "output_type": "stream",
     "text": [
      "[1, 4, 9, 16, 25]\n",
      "(2, 4, 6, 8, 10)\n",
      "{1: 1, 2: 8, 3: 27, 4: 64, 5: 125}\n",
      "10\n",
      "name:Nihar\n",
      "roll:591\n",
      "branch:CSE\n",
      "Positional args: (10, 20, 30)\n",
      "Keyword args: {'name': 'Nihar', 'subject': 'Python'}\n"
     ]
    }
   ],
   "source": [
    "#task3: list, tuple & dictionary comprehensions. runtime arguments with *args **kwargs\n",
    "def add_numbers(*args):\n",
    "    return sum(args)\n",
    "\n",
    "def print_info(**kwargs):\n",
    "    for key, value in kwargs.items():\n",
    "        print(f\"{key}:{value}\")\n",
    "\n",
    "def demo_func(*args, **kwargs):\n",
    "    print(\"Positional args:\", args)\n",
    "    print(\"Keyword args:\", kwargs)\n",
    "\n",
    "squares=[x**2 for x in range(1,6)]\n",
    "evens=tuple(x for x in range(1,11) if x%2==0)\n",
    "cubes={x:x**3 for x in range(1,6)}\n",
    "\n",
    "print(squares)\n",
    "print(evens)\n",
    "print(cubes)\n",
    "print(add_numbers(1,2,3,4))\n",
    "print_info(name=\"Nihar\",roll=591,branch=\"CSE\")\n",
    "demo_func(10,20,30,name=\"Nihar\",subject=\"Python\")\n"
   ]
  },
  {
   "cell_type": "code",
   "execution_count": null,
   "id": "12a8b930-d6d1-4e35-8a36-c3ce5c8a6284",
   "metadata": {},
   "outputs": [],
   "source": []
  }
 ],
 "metadata": {
  "kernelspec": {
   "display_name": "Python 3 (ipykernel)",
   "language": "python",
   "name": "python3"
  },
  "language_info": {
   "codemirror_mode": {
    "name": "ipython",
    "version": 3
   },
   "file_extension": ".py",
   "mimetype": "text/x-python",
   "name": "python",
   "nbconvert_exporter": "python",
   "pygments_lexer": "ipython3",
   "version": "3.11.7"
  }
 },
 "nbformat": 4,
 "nbformat_minor": 5
}
