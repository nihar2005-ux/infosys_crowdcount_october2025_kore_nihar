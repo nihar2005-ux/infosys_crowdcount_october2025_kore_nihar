{
 "cells": [
  {
   "cell_type": "code",
   "execution_count": 1,
   "id": "c75d98ad-60b1-44bc-b4d3-3d8d8e30f784",
   "metadata": {},
   "outputs": [
    {
     "name": "stdout",
     "output_type": "stream",
     "text": [
      "[39.6589331746976, 28.763971071663377, 39.67466772465781, 45.79116965345695, 34.209025919915796]\n"
     ]
    }
   ],
   "source": [
    "heights=[123,156,142,133,151]\n",
    "weights=[60,70,80,81,78]\n",
    "bmi=[]\n",
    "for i in range(5):\n",
    "    heights[i]=heights[i]/100\n",
    "    a=weights[i]/(heights[i]**2)\n",
    "    bmi.append(a)\n",
    "print(bmi)"
   ]
  },
  {
   "cell_type": "code",
   "execution_count": 9,
   "id": "7515e9f6-ffc6-4ecb-81d8-a1e04f76e6d1",
   "metadata": {},
   "outputs": [
    {
     "name": "stdout",
     "output_type": "stream",
     "text": [
      "[39.65893317 28.76397107 39.67466772 45.79116965 34.20902592]\n"
     ]
    },
    {
     "data": {
      "text/plain": [
       "array([25.96952909, 27.05515088, 19.66759003, 28.68514468])"
      ]
     },
     "execution_count": 9,
     "metadata": {},
     "output_type": "execute_result"
    }
   ],
   "source": [
    "#without looop\n",
    "import numpy as np\n",
    "w=[60,70,80,81,78]\n",
    "h=[1.23,1.56,1.42,1.33,1.51]\n",
    "wei=np.array(w)\n",
    "hei=np.array(h)\n",
    "print(wei/hei**2)\n",
    "#mam\n",
    "import numpy as np\n",
    "\n",
    "ht=[1.52,1.55,1.90,1.67]\n",
    "\n",
    "wt=[60,65,71,80]\n",
    "\n",
    "np_ht=np.array(ht)\n",
    "\n",
    "np_wt=np.array(wt)\n",
    "\n",
    "bmi=np_wt/np_ht**2\n",
    "\n",
    "bmi\n",
    " "
   ]
  },
  {
   "cell_type": "code",
   "execution_count": null,
   "id": "235ded41-7d1c-47fa-9dbc-26fe71e75e9c",
   "metadata": {},
   "outputs": [],
   "source": []
  }
 ],
 "metadata": {
  "kernelspec": {
   "display_name": "Python 3 (ipykernel)",
   "language": "python",
   "name": "python3"
  },
  "language_info": {
   "codemirror_mode": {
    "name": "ipython",
    "version": 3
   },
   "file_extension": ".py",
   "mimetype": "text/x-python",
   "name": "python",
   "nbconvert_exporter": "python",
   "pygments_lexer": "ipython3",
   "version": "3.11.7"
  }
 },
 "nbformat": 4,
 "nbformat_minor": 5
}
