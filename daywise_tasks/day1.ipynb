{
 "cells": [
  {
   "cell_type": "code",
   "execution_count": 1,
   "id": "712952fd-4c92-4fed-a548-4b883449a907",
   "metadata": {},
   "outputs": [
    {
     "data": {
      "text/plain": [
       "['False',\n",
       " 'None',\n",
       " 'True',\n",
       " 'and',\n",
       " 'as',\n",
       " 'assert',\n",
       " 'async',\n",
       " 'await',\n",
       " 'break',\n",
       " 'class',\n",
       " 'continue',\n",
       " 'def',\n",
       " 'del',\n",
       " 'elif',\n",
       " 'else',\n",
       " 'except',\n",
       " 'finally',\n",
       " 'for',\n",
       " 'from',\n",
       " 'global',\n",
       " 'if',\n",
       " 'import',\n",
       " 'in',\n",
       " 'is',\n",
       " 'lambda',\n",
       " 'nonlocal',\n",
       " 'not',\n",
       " 'or',\n",
       " 'pass',\n",
       " 'raise',\n",
       " 'return',\n",
       " 'try',\n",
       " 'while',\n",
       " 'with',\n",
       " 'yield']"
      ]
     },
     "execution_count": 1,
     "metadata": {},
     "output_type": "execute_result"
    }
   ],
   "source": [
    "import keyword\n",
    "keyword.kwlist"
   ]
  },
  {
   "cell_type": "code",
   "execution_count": 3,
   "id": "dc808306-8f80-4c5f-abd6-bd6fa562aeb5",
   "metadata": {},
   "outputs": [
    {
     "name": "stdout",
     "output_type": "stream",
     "text": [
      "<class 'str'>\n",
      "<class 'int'>\n",
      "<class 'float'>\n"
     ]
    }
   ],
   "source": [
    "company='infosys'\n",
    "age=17\n",
    "percentage=9.1\n",
    "print(type(company))\n",
    "print(type(age))\n",
    "print(type(percentage))\n",
    "# task1 : write code for 1.Numeric   : \tinteger (positive, negative, binary, octal, hexa )           2.float          3.complex\t\n",
    "# 4. Boolean\n",
    "#task2 : code for all arithmatic operators\n",
    "# 1.Concatenation [+] : Appends the second string to the first.\n",
    "# 2.Repetition [*] : Concatenates multiple copies of the same string.\n",
    "# 3.Slice [] : Gives the character at given index.\n",
    "# 4. Range Slice [:] : [start:stop] Returns a sequence of numbers, starting from 0 by default, and increments by 1 (by default), and stops before a specified number i.e. stop is exclusive. last index is referred to as -1\n",
    "# 5.In Membership [in] : Returns true if a character exists in the given string\n",
    "# 6.Not in membership [not in] : Returns true if a character does not exist in the given string.\n",
    " \n",
    "# task3-string operators\n",
    " "
   ]
  },
  {
   "cell_type": "code",
   "execution_count": 9,
   "id": "8bf02582-dccf-48c6-ac48-6cc49a0ff5af",
   "metadata": {},
   "outputs": [
    {
     "name": "stdout",
     "output_type": "stream",
     "text": [
      "<class 'int'>\n",
      "<class 'float'>\n",
      "<class 'complex'>\n",
      "<class 'bool'>\n"
     ]
    }
   ],
   "source": [
    "#task-1\n",
    "salary=100000\n",
    "s=100000.0\n",
    "s1=3+4j\n",
    "s2=True\n",
    "print(type(salary))\n",
    "print(type(s))\n",
    "print(type(s1))\n",
    "print(type(s2))"
   ]
  },
  {
   "cell_type": "code",
   "execution_count": 11,
   "id": "5f0eb554-919f-44df-9734-d4c57dd60de2",
   "metadata": {},
   "outputs": [
    {
     "name": "stdout",
     "output_type": "stream",
     "text": [
      "9\n",
      "1\n",
      "20\n",
      "1.25\n",
      "1\n",
      "1\n"
     ]
    }
   ],
   "source": [
    "#task-2\n",
    "n1=5\n",
    "n2=4\n",
    "print(n1+n2)\n",
    "print(n1-n2)\n",
    "print(n1*n2)\n",
    "print(n1/n2)\n",
    "print(n1//n2)\n",
    "print(n1%n2)"
   ]
  },
  {
   "cell_type": "code",
   "execution_count": 13,
   "id": "1c78451c-848c-427c-aa37-8d8887c92736",
   "metadata": {},
   "outputs": [
    {
     "name": "stdout",
     "output_type": "stream",
     "text": [
      "NiharKore\n",
      "NiharNihar\n",
      "iha\n",
      "N\n",
      "True\n",
      "False\n"
     ]
    }
   ],
   "source": [
    "#task-3\n",
    "a='Nihar'\n",
    "b='Kore'\n",
    "print(a+b)\n",
    "print(a*2)\n",
    "print(a[1:4])\n",
    "print(a[0])\n",
    "print('N' in a)\n",
    "print('N' not in a)"
   ]
  },
  {
   "cell_type": "code",
   "execution_count": null,
   "id": "852a2e49-2d61-4338-9631-3d6cb0746f9c",
   "metadata": {},
   "outputs": [],
   "source": []
  }
 ],
 "metadata": {
  "kernelspec": {
   "display_name": "Python 3 (ipykernel)",
   "language": "python",
   "name": "python3"
  },
  "language_info": {
   "codemirror_mode": {
    "name": "ipython",
    "version": 3
   },
   "file_extension": ".py",
   "mimetype": "text/x-python",
   "name": "python",
   "nbconvert_exporter": "python",
   "pygments_lexer": "ipython3",
   "version": "3.11.7"
  }
 },
 "nbformat": 4,
 "nbformat_minor": 5
}
