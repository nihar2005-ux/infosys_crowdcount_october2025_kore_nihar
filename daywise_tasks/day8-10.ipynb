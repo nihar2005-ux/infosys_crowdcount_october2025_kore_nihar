{
 "cells": [
  {
   "cell_type": "code",
   "execution_count": null,
   "id": "b7c075df-3f7f-4c87-b8ca-a927f10d71c2",
   "metadata": {},
   "outputs": [],
   "source": [
    "# Day 8 \n",
    "\n",
    "No Task.\n",
    "\n",
    "Revision Suggestion:\n",
    "- Revisit HTML structure\n",
    "- Try writing a form using Bootstrap\n",
    "- Practice identifying CSS selectors"
   ]
  },
  {
   "cell_type": "code",
   "execution_count": null,
   "id": "3ffe9c68-c8af-4a0b-a17c-2e1c6cd60db7",
   "metadata": {},
   "outputs": [],
   "source": [
    "#day-10\n",
    "\n",
    "\n",
    "Milestone 1 Expected Output:\n",
    "\n",
    "--Registration Page (User can create an account)  \n",
    "--Login Page (User can enter credentials)  \n",
    "✔ After login → Redirect to Dashboard / Welcome Page  \n",
    "✔ Proper Form Validation (required fields)  \n",
    "✔ Navigation (Login → Dashboard → Logout)  \n",
    "✔ Project is pushed to GitHub with clear folder structure  \n",
    "\n",
    "Note:\n",
    "- Today is for showing demo / reviewing progress.\n",
    "- If something is pending, complete and finalize today."
   ]
  }
 ],
 "metadata": {
  "kernelspec": {
   "display_name": "Python 3 (ipykernel)",
   "language": "python",
   "name": "python3"
  },
  "language_info": {
   "codemirror_mode": {
    "name": "ipython",
    "version": 3
   },
   "file_extension": ".py",
   "mimetype": "text/x-python",
   "name": "python",
   "nbconvert_exporter": "python",
   "pygments_lexer": "ipython3",
   "version": "3.11.7"
  }
 },
 "nbformat": 4,
 "nbformat_minor": 5
}
