{
 "cells": [
  {
   "cell_type": "code",
   "execution_count": 3,
   "id": "2bee8fec-98f0-4d2e-bb50-41e06aaf44d5",
   "metadata": {},
   "outputs": [
    {
     "name": "stdout",
     "output_type": "stream",
     "text": [
      "  Name  Height_cm  Weight_kg  Height_m        BMI\n",
      "0    A        160         55      1.60  21.484375\n",
      "1    B        170         65      1.70  22.491349\n",
      "2    C        165         70      1.65  25.711662\n",
      "3    D        155         50      1.55  20.811655\n",
      "4    E        180         80      1.80  24.691358\n"
     ]
    }
   ],
   "source": [
    "# Day 11 — Numpy & Pandas (BMI Calculation + Data Cleaning)\n",
    "\n",
    "import pandas as pd\n",
    "\n",
    "# Sample student data\n",
    "data = {\n",
    "    'Name': ['A', 'B', 'C', 'D', 'E'],\n",
    "    'Height_cm': [160, 170, 165, 155, 180], \n",
    "    'Weight_kg': [55, 65, 70, 50, 80]        \n",
    "}\n",
    "\n",
    "# Create DataFrame\n",
    "df = pd.DataFrame(data)\n",
    "\n",
    "# Convert height from cm to meters\n",
    "df['Height_m'] = df['Height_cm'] / 100\n",
    "\n",
    "# BMI Formula = Weight (kg) / (Height (m) ^ 2)\n",
    "df['BMI'] = df['Weight_kg'] / (df['Height_m'] ** 2)\n",
    "\n",
    "print(df)"
   ]
  },
  {
   "cell_type": "code",
   "execution_count": 14,
   "id": "4e1b0187-0cac-49d0-9b60-fd2b232644af",
   "metadata": {},
   "outputs": [
    {
     "name": "stdout",
     "output_type": "stream",
     "text": [
      "✅ BMI Calculation Result:\n",
      "  Name  Height_cm  Weight_kg  Height_m        BMI\n",
      "0    A        160         55      1.60  21.484375\n",
      "1    B        170         65      1.70  22.491349\n",
      "2    C        165         70      1.65  25.711662\n",
      "3    D        155         50      1.55  20.811655\n",
      "4    E        180         80      1.80  24.691358\n",
      "\n",
      "3️⃣ Replace Only 'Calories' Null with 130:\n"
     ]
    },
    {
     "ename": "NameError",
     "evalue": "name 'clean_df' is not defined",
     "output_type": "error",
     "traceback": [
      "\u001b[1;31m---------------------------------------------------------------------------\u001b[0m",
      "\u001b[1;31mNameError\u001b[0m                                 Traceback (most recent call last)",
      "Cell \u001b[1;32mIn[14], line 31\u001b[0m\n\u001b[0;32m     29\u001b[0m \u001b[38;5;66;03m# 3) Replace Only Specific Column\u001b[39;00m\n\u001b[0;32m     30\u001b[0m \u001b[38;5;28mprint\u001b[39m(\u001b[38;5;124m\"\u001b[39m\u001b[38;5;130;01m\\n\u001b[39;00m\u001b[38;5;124m3️⃣ Replace Only \u001b[39m\u001b[38;5;124m'\u001b[39m\u001b[38;5;124mCalories\u001b[39m\u001b[38;5;124m'\u001b[39m\u001b[38;5;124m Null with 130:\u001b[39m\u001b[38;5;124m\"\u001b[39m)\n\u001b[1;32m---> 31\u001b[0m temp \u001b[38;5;241m=\u001b[39m clean_df\u001b[38;5;241m.\u001b[39mcopy()\n\u001b[0;32m     32\u001b[0m temp[\u001b[38;5;124m'\u001b[39m\u001b[38;5;124mCalories\u001b[39m\u001b[38;5;124m'\u001b[39m]\u001b[38;5;241m.\u001b[39mfillna(\u001b[38;5;241m130\u001b[39m, inplace\u001b[38;5;241m=\u001b[39m\u001b[38;5;28;01mTrue\u001b[39;00m)\n\u001b[0;32m     33\u001b[0m display(temp)\n",
      "\u001b[1;31mNameError\u001b[0m: name 'clean_df' is not defined"
     ]
    }
   ],
   "source": [
    "\n",
    "\n",
    "\n",
    "# 3) Replace Only Specific Column\n",
    "print(\"\\n3️⃣ Replace Only 'Calories' Null with 130:\")\n",
    "temp = clean_df.copy()\n",
    "temp['Calories'].fillna(130, inplace=True)\n",
    "display(temp)\n",
    "\n",
    "# 4) Replace Using Mean\n",
    "print(\"\\n4️⃣ Replace Using Mean of 'Calories':\")\n",
    "temp = clean_df.copy()\n",
    "temp['Calories'].fillna(temp['Calories'].mean(), inplace=True)\n",
    "display(temp)\n",
    "\n",
    "# 5) Drop rows with wrong Date format\n",
    "print(\"\\n5️⃣ Drop rows where Date is Null:\")\n",
    "temp = clean_df.copy()\n",
    "temp = temp.dropna(subset=['Date'])\n",
    "display(temp)\n",
    "\n",
    "# 6) Convert to Correct Date Format\n",
    "print(\"\\n6️⃣ Convert 'Date' to Datetime Format:\")\n",
    "temp = clean_df.copy()\n",
    "temp['Date'] = pd.to_datetime(temp['Date'], errors='coerce')\n",
    "display(temp)\n",
    "\n",
    "# 8) Drop Wrong Data (Duration > 120)\n",
    "print(\"\\n8️⃣ Drop Rows Where Duration > 120:\")\n",
    "temp = clean_df.copy()\n",
    "temp = temp[temp['Duration'] <= 120]\n",
    "display(temp)\n",
    "\n",
    "# 9) Check Duplicates\n",
    "print(\"\\n9️⃣ Check for Duplicates:\")\n",
    "print(clean_df.duplicated())\n",
    "\n",
    "# 10) Remove Duplicates\n",
    "print(\"\\n🔟 Remove Duplicates:\")\n",
    "display(clean_df.drop_duplicates())"
   ]
  },
  {
   "cell_type": "code",
   "execution_count": null,
   "id": "322c6834-badd-4113-8831-81e40b571535",
   "metadata": {},
   "outputs": [],
   "source": []
  },
  {
   "cell_type": "code",
   "execution_count": null,
   "id": "0864450b-db70-4bb5-bec3-5b5cb4ed3ff7",
   "metadata": {},
   "outputs": [],
   "source": []
  }
 ],
 "metadata": {
  "kernelspec": {
   "display_name": "Python 3 (ipykernel)",
   "language": "python",
   "name": "python3"
  },
  "language_info": {
   "codemirror_mode": {
    "name": "ipython",
    "version": 3
   },
   "file_extension": ".py",
   "mimetype": "text/x-python",
   "name": "python",
   "nbconvert_exporter": "python",
   "pygments_lexer": "ipython3",
   "version": "3.11.7"
  }
 },
 "nbformat": 4,
 "nbformat_minor": 5
}
